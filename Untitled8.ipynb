{
 "cells": [
  {
   "cell_type": "code",
   "execution_count": 2,
   "id": "caedee1f",
   "metadata": {},
   "outputs": [
    {
     "data": {
      "text/plain": [
       "True"
      ]
     },
     "execution_count": 2,
     "metadata": {},
     "output_type": "execute_result"
    }
   ],
   "source": [
    "import nltk\n",
    "nltk.download('book', quiet=True)\n"
   ]
  },
  {
   "cell_type": "code",
   "execution_count": 3,
   "id": "c8abd424",
   "metadata": {},
   "outputs": [],
   "source": [
    "from sklearn.model_selection import train_test_split\n",
    "from sklearn.metrics import (\n",
    "    classification_report,\n",
    "    confusion_matrix,\n",
    ")\n"
   ]
  },
  {
   "cell_type": "code",
   "execution_count": 4,
   "id": "83bb462b",
   "metadata": {},
   "outputs": [],
   "source": [
    "from nltk.corpus import conll2000"
   ]
  },
  {
   "cell_type": "code",
   "execution_count": 5,
   "id": "c1d501a1",
   "metadata": {},
   "outputs": [],
   "source": [
    "conll_test = nltk.corpus.conll2000.chunked_sents('test.txt', chunk_types=('NP'))[20] "
   ]
  },
  {
   "cell_type": "code",
   "execution_count": 6,
   "id": "736f00f1",
   "metadata": {},
   "outputs": [
    {
     "name": "stdout",
     "output_type": "stream",
     "text": [
      "(S\n",
      "  (NP The/DT move/NN)\n",
      "  followed/VBD\n",
      "  (NP a/DT round/NN)\n",
      "  of/IN\n",
      "  (NP similar/JJ increases/NNS)\n",
      "  by/IN\n",
      "  (NP other/JJ lenders/NNS)\n",
      "  against/IN\n",
      "  (NP Arizona/NNP real/JJ estate/NN loans/NNS)\n",
      "  ,/,\n",
      "  reflecting/VBG\n",
      "  (NP a/DT continuing/VBG decline/NN)\n",
      "  in/IN\n",
      "  (NP that/DT market/NN)\n",
      "  ./.)\n"
     ]
    }
   ],
   "source": [
    "print(conll_test)"
   ]
  },
  {
   "cell_type": "code",
   "execution_count": 10,
   "id": "ac3953e3",
   "metadata": {},
   "outputs": [],
   "source": [
    "conll_test.draw()"
   ]
  },
  {
   "cell_type": "code",
   "execution_count": null,
   "id": "aa7b8d21",
   "metadata": {},
   "outputs": [],
   "source": []
  },
  {
   "cell_type": "code",
   "execution_count": null,
   "id": "b41c3af2",
   "metadata": {},
   "outputs": [],
   "source": []
  }
 ],
 "metadata": {
  "kernelspec": {
   "display_name": "Python 3 (ipykernel)",
   "language": "python",
   "name": "python3"
  },
  "language_info": {
   "codemirror_mode": {
    "name": "ipython",
    "version": 3
   },
   "file_extension": ".py",
   "mimetype": "text/x-python",
   "name": "python",
   "nbconvert_exporter": "python",
   "pygments_lexer": "ipython3",
   "version": "3.9.7"
  }
 },
 "nbformat": 4,
 "nbformat_minor": 5
}
